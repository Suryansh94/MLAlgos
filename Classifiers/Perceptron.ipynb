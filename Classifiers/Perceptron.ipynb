{
 "cells": [
  {
   "cell_type": "code",
   "execution_count": 3,
   "metadata": {
    "collapsed": true
   },
   "outputs": [],
   "source": [
    "import numpy as np\n",
    "import matplotlib.pyplot as plt"
   ]
  },
  {
   "cell_type": "code",
   "execution_count": 4,
   "metadata": {
    "collapsed": true
   },
   "outputs": [],
   "source": [
    "# import pandas as pd"
   ]
  },
  {
   "cell_type": "code",
   "execution_count": null,
   "metadata": {
    "collapsed": true
   },
   "outputs": [],
   "source": [
    "# uncomment stuff to read from csv  (showing only for small example)"
   ]
  },
  {
   "cell_type": "code",
   "execution_count": 6,
   "metadata": {
    "collapsed": false
   },
   "outputs": [],
   "source": [
    "\n",
    "# df = pd.read_csv('./Perceptron/C1.csv')"
   ]
  },
  {
   "cell_type": "code",
   "execution_count": 7,
   "metadata": {
    "collapsed": false
   },
   "outputs": [],
   "source": [
    "# A=df.as_matrix()"
   ]
  },
  {
   "cell_type": "code",
   "execution_count": 12,
   "metadata": {
    "collapsed": false
   },
   "outputs": [],
   "source": [
    "# x=A[:,0]\n",
    "x=[ 6.8 ,-3.5  ,2. ,  4.1 , 3.1 ,-0.8 , 0.9 , 5.  , 3.9,0.1]\n",
    "# y=A[:,1]\n",
    "y=[ 7.1 ,-4.1 , 2.7 , 2.8 , 5.  ,-1.3  ,1.2  ,6.4  ,4.,1.1 ]\n",
    "# print y"
   ]
  },
  {
   "cell_type": "code",
   "execution_count": 21,
   "metadata": {
    "collapsed": false
   },
   "outputs": [
    {
     "name": "stderr",
     "output_type": "stream",
     "text": [
      "/home/suryansh/anaconda2/envs/gl-env/lib/python2.7/site-packages/matplotlib/font_manager.py:273: UserWarning: Matplotlib is building the font cache using fc-list. This may take a moment.\n",
      "  warnings.warn('Matplotlib is building the font cache using fc-list. This may take a moment.')\n"
     ]
    }
   ],
   "source": []
  },
  {
   "cell_type": "code",
   "execution_count": 8,
   "metadata": {
    "collapsed": false
   },
   "outputs": [
    {
     "data": {
      "text/plain": [
       "<matplotlib.collections.PathCollection at 0x7fd33157ba10>"
      ]
     },
     "execution_count": 8,
     "metadata": {},
     "output_type": "execute_result"
    }
   ],
   "source": [
    "# plt.scatter(x,y)"
   ]
  },
  {
   "cell_type": "code",
   "execution_count": 101,
   "metadata": {
    "collapsed": true
   },
   "outputs": [],
   "source": [
    "# plt.show()"
   ]
  },
  {
   "cell_type": "code",
   "execution_count": 12,
   "metadata": {
    "collapsed": false
   },
   "outputs": [],
   "source": [
    "# df1=pd.read_csv('./Perceptron/C2.csv')"
   ]
  },
  {
   "cell_type": "code",
   "execution_count": 13,
   "metadata": {
    "collapsed": false
   },
   "outputs": [
    {
     "data": {
      "text/plain": [
       "numpy.ndarray"
      ]
     },
     "execution_count": 13,
     "metadata": {},
     "output_type": "execute_result"
    }
   ],
   "source": [
    "# B=df1.as_matrix()\n",
    "# type(B)"
   ]
  },
  {
   "cell_type": "code",
   "execution_count": 14,
   "metadata": {
    "collapsed": false
   },
   "outputs": [],
   "source": [
    "# x1=B[:,0]\n",
    "x1=[-1.4 , 4.5 , 6.3 , 4.2 , 1.4  ,2.4  ,2.5,  8.4  ,4.1,7.1]\n",
    "# y1=B[:,1]\n",
    "y1=[-4.3 , 0.  , 1.6 , 1.9 ,-3.2, -4. , -6.1 , 3.7 ,-2.2,4.2]\n",
    "\n",
    "x2=[-3.0,0.5,2.9,-0.1,-4.0,-1.3,-3.4,-4.1,-5.1,1.9]\n",
    "y2=[-2.9,8.7,2.1,5.2,2.2,3.7,6.2,3.4,1.6,5.1]\n"
   ]
  },
  {
   "cell_type": "code",
   "execution_count": 12,
   "metadata": {
    "collapsed": false
   },
   "outputs": [
    {
     "data": {
      "text/plain": [
       "<matplotlib.collections.PathCollection at 0x7fd33162df90>"
      ]
     },
     "execution_count": 12,
     "metadata": {},
     "output_type": "execute_result"
    }
   ],
   "source": [
    "# plt.scatter(x,y,c=\"red\")\n",
    "# plt.scatter(x1,y1,c=\"yellow\")\n"
   ]
  },
  {
   "cell_type": "code",
   "execution_count": 68,
   "metadata": {
    "collapsed": false
   },
   "outputs": [],
   "source": [
    "# start from here\n",
    "\n",
    " # w=[w1,w2,w0]\n",
    "# x=np.array([1,1,1]) # x=[x1,x2,1]\n",
    "# trans(a)dotx\n"
   ]
  },
  {
   "cell_type": "code",
   "execution_count": 14,
   "metadata": {
    "collapsed": false
   },
   "outputs": [
    {
     "data": {
      "text/plain": [
       "0.1     6.8\n",
       "1.1     7.1\n",
       "Name: 0, dtype: float64"
      ]
     },
     "execution_count": 14,
     "metadata": {},
     "output_type": "execute_result"
    }
   ],
   "source": [
    "# df = pd.read_csv('./Perceptron/C1.csv')\n",
    "# data_set1=df.as_matrix()\n",
    "# df.ix[0]\n"
   ]
  },
  {
   "cell_type": "markdown",
   "metadata": {},
   "source": [
    "### Augmented Data Set"
   ]
  },
  {
   "cell_type": "code",
   "execution_count": 6,
   "metadata": {
    "collapsed": true
   },
   "outputs": [],
   "source": [
    "## data = [x1,x1,1] weight = [w1,w2,w0]"
   ]
  },
  {
   "cell_type": "code",
   "execution_count": 7,
   "metadata": {
    "collapsed": true
   },
   "outputs": [],
   "source": [
    "data1=[[0.1,1.1,1] ,[6.8,7.1,1],[-3.5,-4.1,1],[2.0,2.7,1],[4.1,2.8,1] ,[3.1,5.0,1],[-0.8,-1.3,1],[0.9,1.2,1] ,[5.0,6.4,1] ,[3.9,4.0,1],[-7.1,-4.2,-1] ,[1.4,4.3,-1],[-4.5,-0.0,-1] ,[-6.3,-1.6,-1] ,[-4.2,-1.9,-1] ,[-1.4,3.2,-1],[-2.4,4.0,-1],[-2.5,6.1,-1],[-8.4,-3.7,-1] ,[-4.1,2.2,-1]]"
   ]
  },
  {
   "cell_type": "code",
   "execution_count": 8,
   "metadata": {
    "collapsed": false
   },
   "outputs": [],
   "source": [
    "data2=[[-3.0,-2.9,1],[0.5,8.7,1],[2.9,2.1,1],[-0.1,5.2,1],[-4.0,2.2,1],[-1.3,3.7,1],[-3.4,6.2,1],[-4.1,3.4,1],[-5.1,1.6,1],[1.9,5.1,1],[-7.1,-4.2,-1] ,[1.4,4.3,-1],[-4.5,-0.0,-1] ,[-6.3,-1.6,-1] ,[-4.2,-1.9,-1] ,[-1.4,3.2,-1],[-2.4,4.0,-1],[-2.5,6.1,-1],[-8.4,-3.7,-1] ,[-4.1,2.2,-1]]"
   ]
  },
  {
   "cell_type": "code",
   "execution_count": 59,
   "metadata": {
    "collapsed": false
   },
   "outputs": [
    {
     "name": "stdout",
     "output_type": "stream",
     "text": [
      "[-2.9, 8.7, 2.1, 5.2, 2.2, 3.7, 6.2, 3.4, 1.6, 5.1, -4.2, 4.3, -0.0, -1.6, -1.9, 3.2, 4.0, 6.1, -3.7, 2.2]\n"
     ]
    }
   ],
   "source": [
    "# Y=[1,1,1,1,1,1,1,1,1,1,-1,-1,-1,-1,-1,-1,-1,-1,-1,-1]\n",
    "# print len(Y)\n",
    "# print data2\n",
    "# list1=[item[1] for item in data2 ]\n",
    "# print list1"
   ]
  },
  {
   "cell_type": "code",
   "execution_count": 17,
   "metadata": {
    "collapsed": false
   },
   "outputs": [
    {
     "name": "stdout",
     "output_type": "stream",
     "text": [
      "True\n"
     ]
    }
   ],
   "source": [
    "# a=np.array([0,0,0])\n",
    "# b=np.array([0,0,0])\n",
    "# print np.array_equal(a,b)"
   ]
  },
  {
   "cell_type": "code",
   "execution_count": 37,
   "metadata": {
    "collapsed": false
   },
   "outputs": [],
   "source": [
    "# x=np.array([1,1,1])\n",
    "# x"
   ]
  },
  {
   "cell_type": "code",
   "execution_count": 9,
   "metadata": {
    "collapsed": false
   },
   "outputs": [
    {
     "name": "stdout",
     "output_type": "stream",
     "text": [
      "[-5.1   5.65  6.5 ]\n",
      "Iterations for data set 1 are  33\n",
      "[-2.75  3.2   2.5 ]\n",
      "Iterations for data set 2 are  9\n"
     ]
    }
   ],
   "source": [
    "#Main Stuf\n",
    "flag=1\n",
    "iterations=0\n",
    "weight1=np.array([0,0,0])\n",
    "weight2=np.array([0,0,0])\n",
    "while True:\n",
    "    flag=0\n",
    "    for point in data1:\n",
    "#         print point\n",
    "        p=np.array(point)\n",
    "        val=np.inner(weight1,p)\n",
    "        if (val<=0 ):\n",
    "            # misclassified\n",
    "            flag=1\n",
    "            weight1=weight1+0.5*p\n",
    "            iterations+=1\n",
    "    if flag==0:\n",
    "        break\n",
    "print weight1\n",
    "print \"Iterations for data set 1 are \",iterations\n",
    "\n",
    "iterations=0\n",
    "while True:\n",
    "    flag=0\n",
    "    for point in data2:\n",
    "#         print point\n",
    "        p=np.array(point)\n",
    "        val=np.inner(weight2,p)\n",
    "        if (val<=0 ):\n",
    "            # misclassified\n",
    "            flag=1\n",
    "            weight2=weight2+0.5*p\n",
    "            iterations+=1\n",
    "    if flag==0:\n",
    "        break\n",
    "print weight2\n",
    "print \"Iterations for data set 2 are \",iterations\n",
    "#     print a.dot(np.array(point))\n",
    "        # tras(a)dot point \n",
    "    "
   ]
  },
  {
   "cell_type": "code",
   "execution_count": 10,
   "metadata": {
    "collapsed": false
   },
   "outputs": [],
   "source": [
    "px=np.linspace(-6,10,5,dtype=int).tolist()\n",
    "py1=[]\n",
    "py2=[]\n",
    "for i in px:\n",
    "    #w1x+w2y+w0\n",
    "    value1=(-weight1[2]-weight1[0]*i)/weight1[1]\n",
    "    value2=(-weight2[2]-weight2[0]*i)/weight2[1]\n",
    "    py1.append(value1)\n",
    "    py2.append(value2)\n",
    "# print px\n",
    "# print py\n",
    "# plt.plot([0,x],[y,0])  # plt.plot(x[],y[])\n",
    "# plt.show()"
   ]
  },
  {
   "cell_type": "code",
   "execution_count": 15,
   "metadata": {
    "collapsed": false
   },
   "outputs": [],
   "source": [
    "plt.plot(px,py1,\"--\")\n",
    "plt.scatter(x,y,c=\"yellow\")\n",
    "plt.scatter(x1,y1,c=\"red\")\n",
    "\n",
    "# uncomment below three line for data set 2 and comment above three lines\n",
    "# plt.plot(px,py1,'-')\n",
    "# plt.scatter(x1,y1,c=\"red\")\n",
    "# plt.scatter(x2,y2,c=\"green\")\n",
    "\n",
    "plt.show()"
   ]
  }
 ],
 "metadata": {
  "kernelspec": {
   "display_name": "Python 2",
   "language": "python",
   "name": "python2"
  },
  "language_info": {
   "codemirror_mode": {
    "name": "ipython",
    "version": 2
   },
   "file_extension": ".py",
   "mimetype": "text/x-python",
   "name": "python",
   "nbconvert_exporter": "python",
   "pygments_lexer": "ipython2",
   "version": "2.7.13"
  }
 },
 "nbformat": 4,
 "nbformat_minor": 0
}
