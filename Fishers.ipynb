{
 "cells": [
  {
   "cell_type": "code",
   "execution_count": 3,
   "metadata": {
    "collapsed": false
   },
   "outputs": [],
   "source": [
    "import numpy as np\n",
    "import matplotlib.pyplot as plt"
   ]
  },
  {
   "cell_type": "markdown",
   "metadata": {},
   "source": [
    "# Dim reduction  using Fisher"
   ]
  },
  {
   "cell_type": "code",
   "execution_count": 4,
   "metadata": {
    "collapsed": false
   },
   "outputs": [
    {
     "name": "stdout",
     "output_type": "stream",
     "text": [
      "Slope1  0.891304347826\n",
      "Slope2  0.79958463136\n"
     ]
    }
   ],
   "source": [
    "class1=[[3,3],[3,0],[2,1],[0,2]]\n",
    "class2=[[-1,1],[0,0],[-1,-1],[1,0]]\n",
    "class3=[[3,3],[3,0],[2,1],[0,1.5]]\n",
    "class4=[[-1,1],[0,0],[-1,-1],[1,0]]\n",
    "c1=np.array(class1)\n",
    "c2=np.array(class2)\n",
    "c3=np.array(class3)\n",
    "c4=np.array(class4)\n",
    "# print d1\n",
    "mean1=np.mean(c1, axis=0)\n",
    "mean2=np.mean(c2, axis=0)\n",
    "mean3=np.mean(c3, axis=0)\n",
    "mean4=np.mean(c4, axis=0)\n",
    "# print mean1\n",
    "c1=c1-mean1\n",
    "c2=c2-mean2\n",
    "c3=c3-mean3\n",
    "c4=c4-mean4\n",
    "# print d1\n",
    "d1scatter1=np.zeros((2, 2))\n",
    "d1scatter2=np.zeros((2, 2))\n",
    "d2scatter1=np.zeros((2, 2))\n",
    "d2scatter2=np.zeros((2, 2))\n",
    "for x in c1:\n",
    "    d1scatter1+=np.outer(x,x.T)\n",
    "# print scatter1\n",
    "for x in c2:\n",
    "    d1scatter2+=np.outer(x,x.T)\n",
    "\n",
    "for x in c3:\n",
    "    d2scatter1+=np.outer(x,x.T)\n",
    "# print scatter1\n",
    "for x in c4:\n",
    "    d2scatter2+=np.outer(x,x.T)\n",
    "# print scatter2\n",
    "d1scatter=d1scatter1+d1scatter2\n",
    "d2scatter=d2scatter1+d2scatter2\n",
    "# print scatter\n",
    "\n",
    "# for x in c3:\n",
    "#     scatter1+=np.outer(x,x.T)\n",
    "# # print scatter1\n",
    "# for x in c4:\n",
    "#     scatter2+=np.outer(x,x.T)\n",
    "\n",
    "d1mean=mean1-mean2\n",
    "d2mean=mean3-mean4\n",
    "d1w=np.linalg.inv(d1scatter).dot(d1mean)\n",
    "\n",
    "d2w=np.linalg.inv(d2scatter).dot(d2mean)\n",
    "slope2=d2w[1]/d2w[0]\n",
    "slope1=d1w[1]/d1w[0]\n",
    "print \"Slope1 \",slope1\n",
    "print \"Slope2 \",slope2"
   ]
  },
  {
   "cell_type": "code",
   "execution_count": 5,
   "metadata": {
    "collapsed": false
   },
   "outputs": [
    {
     "name": "stdout",
     "output_type": "stream",
     "text": [
      "[-6, -2, 2, 6, 10]\n",
      "[-5.3478260869565215, -1.7826086956521738, 1.7826086956521738, 5.3478260869565215, 8.9130434782608692]\n"
     ]
    }
   ],
   "source": [
    "px=np.linspace(-6,10,5,dtype=int).tolist()\n",
    "py1=[]\n",
    "py2=[]\n",
    "for i in px:\n",
    "    #w1x+w2y+w0\n",
    "    value1=(slope1*i)\n",
    "    value2=(slope2*i)\n",
    "    py1.append(value1)\n",
    "    py2.append(value2)\n",
    "print px\n",
    "print py1"
   ]
  },
  {
   "cell_type": "code",
   "execution_count": 6,
   "metadata": {
    "collapsed": false
   },
   "outputs": [],
   "source": [
    "\n",
    "c1x = [item[0] for item in class1]\n",
    "c1y = [item[1] for item in class1]\n",
    "c2x = [item[0] for item in class2]\n",
    "c2y = [item[1] for item in class2]\n",
    "c3x = [item[0] for item in class3]\n",
    "c3y = [item[1] for item in class3]\n",
    "c4x = [item[0] for item in class4]\n",
    "c4y = [item[1] for item in class4]\n",
    "axis=plt.gca()\n",
    "axis.set_xlim(-3,5)\n",
    "axis.set_ylim(-3,5)\n",
    "\n",
    "plt.plot(px,py1,\"--\")  # data set 1 classifier\n",
    "plt.scatter(c1x,c1y,c=\"red\")\n",
    "plt.scatter(c2x,c2y,c=\"yellow\")\n",
    "\n",
    "\n",
    "# uncomment for data set 2 and comment above 3 lines\n",
    "\n",
    "# plt.plot(px,py1,\"-\") # data set 2 classifier\n",
    "# plt.scatter(c3x,c3y,c=\"green\")\n",
    "# plt.scatter(c4x,c4y,c=\"blue\")\n",
    "plt.show()"
   ]
  }
 ],
 "metadata": {
  "celltoolbar": "Edit Metadata",
  "kernelspec": {
   "display_name": "Python 2",
   "language": "python",
   "name": "python2"
  },
  "language_info": {
   "codemirror_mode": {
    "name": "ipython",
    "version": 2
   },
   "file_extension": ".py",
   "mimetype": "text/x-python",
   "name": "python",
   "nbconvert_exporter": "python",
   "pygments_lexer": "ipython2",
   "version": "2.7.13"
  }
 },
 "nbformat": 4,
 "nbformat_minor": 0
}
